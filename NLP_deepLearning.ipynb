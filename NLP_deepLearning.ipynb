{
  "nbformat": 4,
  "nbformat_minor": 0,
  "metadata": {
    "colab": {
      "name": "NLP-deepLearning.ipynb",
      "provenance": [],
      "authorship_tag": "ABX9TyOqsgSHB4OWoT4FdXSqeXC3",
      "include_colab_link": true
    },
    "kernelspec": {
      "name": "python3",
      "display_name": "Python 3"
    },
    "language_info": {
      "name": "python"
    }
  },
  "cells": [
    {
      "cell_type": "markdown",
      "metadata": {
        "id": "view-in-github",
        "colab_type": "text"
      },
      "source": [
        "<a href=\"https://colab.research.google.com/github/LeeSuBin-khu/tensorflow/blob/master/NLP_deepLearning.ipynb\" target=\"_parent\"><img src=\"https://colab.research.google.com/assets/colab-badge.svg\" alt=\"Open In Colab\"/></a>"
      ]
    },
    {
      "cell_type": "code",
      "metadata": {
        "colab": {
          "base_uri": "https://localhost:8080/"
        },
        "id": "iSiC1K66AjON",
        "outputId": "2e0537f1-3dfd-4972-b14c-f3c491013dca"
      },
      "source": [
        "pip install numpy"
      ],
      "execution_count": 3,
      "outputs": [
        {
          "output_type": "stream",
          "name": "stdout",
          "text": [
            "Requirement already satisfied: numpy in /usr/local/lib/python3.7/dist-packages (1.19.5)\n"
          ]
        }
      ]
    },
    {
      "cell_type": "code",
      "metadata": {
        "colab": {
          "base_uri": "https://localhost:8080/"
        },
        "id": "ZYgFamu9Am5J",
        "outputId": "7604031d-056b-43e4-99e3-6c71cc80fccf"
      },
      "source": [
        "pip install tensorflow"
      ],
      "execution_count": 4,
      "outputs": [
        {
          "output_type": "stream",
          "name": "stdout",
          "text": [
            "Requirement already satisfied: tensorflow in /usr/local/lib/python3.7/dist-packages (2.6.0)\n",
            "Requirement already satisfied: tensorflow-estimator~=2.6 in /usr/local/lib/python3.7/dist-packages (from tensorflow) (2.6.0)\n",
            "Requirement already satisfied: flatbuffers~=1.12.0 in /usr/local/lib/python3.7/dist-packages (from tensorflow) (1.12)\n",
            "Requirement already satisfied: six~=1.15.0 in /usr/local/lib/python3.7/dist-packages (from tensorflow) (1.15.0)\n",
            "Requirement already satisfied: protobuf>=3.9.2 in /usr/local/lib/python3.7/dist-packages (from tensorflow) (3.17.3)\n",
            "Requirement already satisfied: gast==0.4.0 in /usr/local/lib/python3.7/dist-packages (from tensorflow) (0.4.0)\n",
            "Requirement already satisfied: clang~=5.0 in /usr/local/lib/python3.7/dist-packages (from tensorflow) (5.0)\n",
            "Requirement already satisfied: absl-py~=0.10 in /usr/local/lib/python3.7/dist-packages (from tensorflow) (0.12.0)\n",
            "Requirement already satisfied: numpy~=1.19.2 in /usr/local/lib/python3.7/dist-packages (from tensorflow) (1.19.5)\n",
            "Requirement already satisfied: astunparse~=1.6.3 in /usr/local/lib/python3.7/dist-packages (from tensorflow) (1.6.3)\n",
            "Requirement already satisfied: tensorboard~=2.6 in /usr/local/lib/python3.7/dist-packages (from tensorflow) (2.6.0)\n",
            "Requirement already satisfied: keras~=2.6 in /usr/local/lib/python3.7/dist-packages (from tensorflow) (2.6.0)\n",
            "Requirement already satisfied: google-pasta~=0.2 in /usr/local/lib/python3.7/dist-packages (from tensorflow) (0.2.0)\n",
            "Requirement already satisfied: termcolor~=1.1.0 in /usr/local/lib/python3.7/dist-packages (from tensorflow) (1.1.0)\n",
            "Requirement already satisfied: opt-einsum~=3.3.0 in /usr/local/lib/python3.7/dist-packages (from tensorflow) (3.3.0)\n",
            "Requirement already satisfied: h5py~=3.1.0 in /usr/local/lib/python3.7/dist-packages (from tensorflow) (3.1.0)\n",
            "Requirement already satisfied: wrapt~=1.12.1 in /usr/local/lib/python3.7/dist-packages (from tensorflow) (1.12.1)\n",
            "Requirement already satisfied: wheel~=0.35 in /usr/local/lib/python3.7/dist-packages (from tensorflow) (0.37.0)\n",
            "Requirement already satisfied: typing-extensions~=3.7.4 in /usr/local/lib/python3.7/dist-packages (from tensorflow) (3.7.4.3)\n",
            "Requirement already satisfied: grpcio<2.0,>=1.37.0 in /usr/local/lib/python3.7/dist-packages (from tensorflow) (1.41.0)\n",
            "Requirement already satisfied: keras-preprocessing~=1.1.2 in /usr/local/lib/python3.7/dist-packages (from tensorflow) (1.1.2)\n",
            "Requirement already satisfied: cached-property in /usr/local/lib/python3.7/dist-packages (from h5py~=3.1.0->tensorflow) (1.5.2)\n",
            "Requirement already satisfied: werkzeug>=0.11.15 in /usr/local/lib/python3.7/dist-packages (from tensorboard~=2.6->tensorflow) (1.0.1)\n",
            "Requirement already satisfied: google-auth<2,>=1.6.3 in /usr/local/lib/python3.7/dist-packages (from tensorboard~=2.6->tensorflow) (1.35.0)\n",
            "Requirement already satisfied: setuptools>=41.0.0 in /usr/local/lib/python3.7/dist-packages (from tensorboard~=2.6->tensorflow) (57.4.0)\n",
            "Requirement already satisfied: tensorboard-data-server<0.7.0,>=0.6.0 in /usr/local/lib/python3.7/dist-packages (from tensorboard~=2.6->tensorflow) (0.6.1)\n",
            "Requirement already satisfied: tensorboard-plugin-wit>=1.6.0 in /usr/local/lib/python3.7/dist-packages (from tensorboard~=2.6->tensorflow) (1.8.0)\n",
            "Requirement already satisfied: google-auth-oauthlib<0.5,>=0.4.1 in /usr/local/lib/python3.7/dist-packages (from tensorboard~=2.6->tensorflow) (0.4.6)\n",
            "Requirement already satisfied: markdown>=2.6.8 in /usr/local/lib/python3.7/dist-packages (from tensorboard~=2.6->tensorflow) (3.3.4)\n",
            "Requirement already satisfied: requests<3,>=2.21.0 in /usr/local/lib/python3.7/dist-packages (from tensorboard~=2.6->tensorflow) (2.23.0)\n",
            "Requirement already satisfied: cachetools<5.0,>=2.0.0 in /usr/local/lib/python3.7/dist-packages (from google-auth<2,>=1.6.3->tensorboard~=2.6->tensorflow) (4.2.4)\n",
            "Requirement already satisfied: rsa<5,>=3.1.4 in /usr/local/lib/python3.7/dist-packages (from google-auth<2,>=1.6.3->tensorboard~=2.6->tensorflow) (4.7.2)\n",
            "Requirement already satisfied: pyasn1-modules>=0.2.1 in /usr/local/lib/python3.7/dist-packages (from google-auth<2,>=1.6.3->tensorboard~=2.6->tensorflow) (0.2.8)\n",
            "Requirement already satisfied: requests-oauthlib>=0.7.0 in /usr/local/lib/python3.7/dist-packages (from google-auth-oauthlib<0.5,>=0.4.1->tensorboard~=2.6->tensorflow) (1.3.0)\n",
            "Requirement already satisfied: importlib-metadata in /usr/local/lib/python3.7/dist-packages (from markdown>=2.6.8->tensorboard~=2.6->tensorflow) (4.8.1)\n",
            "Requirement already satisfied: pyasn1<0.5.0,>=0.4.6 in /usr/local/lib/python3.7/dist-packages (from pyasn1-modules>=0.2.1->google-auth<2,>=1.6.3->tensorboard~=2.6->tensorflow) (0.4.8)\n",
            "Requirement already satisfied: chardet<4,>=3.0.2 in /usr/local/lib/python3.7/dist-packages (from requests<3,>=2.21.0->tensorboard~=2.6->tensorflow) (3.0.4)\n",
            "Requirement already satisfied: idna<3,>=2.5 in /usr/local/lib/python3.7/dist-packages (from requests<3,>=2.21.0->tensorboard~=2.6->tensorflow) (2.10)\n",
            "Requirement already satisfied: urllib3!=1.25.0,!=1.25.1,<1.26,>=1.21.1 in /usr/local/lib/python3.7/dist-packages (from requests<3,>=2.21.0->tensorboard~=2.6->tensorflow) (1.24.3)\n",
            "Requirement already satisfied: certifi>=2017.4.17 in /usr/local/lib/python3.7/dist-packages (from requests<3,>=2.21.0->tensorboard~=2.6->tensorflow) (2021.5.30)\n",
            "Requirement already satisfied: oauthlib>=3.0.0 in /usr/local/lib/python3.7/dist-packages (from requests-oauthlib>=0.7.0->google-auth-oauthlib<0.5,>=0.4.1->tensorboard~=2.6->tensorflow) (3.1.1)\n",
            "Requirement already satisfied: zipp>=0.5 in /usr/local/lib/python3.7/dist-packages (from importlib-metadata->markdown>=2.6.8->tensorboard~=2.6->tensorflow) (3.6.0)\n"
          ]
        }
      ]
    },
    {
      "cell_type": "code",
      "metadata": {
        "colab": {
          "base_uri": "https://localhost:8080/"
        },
        "id": "adJbqpT7AooZ",
        "outputId": "d48190d2-6ddb-4c98-f511-ed011df70e3d"
      },
      "source": [
        "pip install keras"
      ],
      "execution_count": 5,
      "outputs": [
        {
          "output_type": "stream",
          "name": "stdout",
          "text": [
            "Requirement already satisfied: keras in /usr/local/lib/python3.7/dist-packages (2.6.0)\n"
          ]
        }
      ]
    },
    {
      "cell_type": "code",
      "metadata": {
        "id": "j9mO29-7AqKi"
      },
      "source": [
        "import numpy as np"
      ],
      "execution_count": 6,
      "outputs": []
    },
    {
      "cell_type": "code",
      "metadata": {
        "id": "MRWynFCwBG2Y"
      },
      "source": [
        "import tensorflow as tf"
      ],
      "execution_count": 7,
      "outputs": []
    },
    {
      "cell_type": "code",
      "metadata": {
        "id": "d4R20rObBJFa"
      },
      "source": [
        "from tensorflow.keras.layers import SimpleRNN"
      ],
      "execution_count": 8,
      "outputs": []
    },
    {
      "cell_type": "code",
      "metadata": {
        "colab": {
          "base_uri": "https://localhost:8080/",
          "height": 174
        },
        "id": "utNONdlRBQY3",
        "outputId": "6e3664bf-9824-4961-da69-31d032d2db35"
      },
      "source": [
        "SimpleRNN(units, return_sequences=False, return_state=False)"
      ],
      "execution_count": 9,
      "outputs": [
        {
          "output_type": "error",
          "ename": "NameError",
          "evalue": "ignored",
          "traceback": [
            "\u001b[0;31m---------------------------------------------------------------------------\u001b[0m",
            "\u001b[0;31mNameError\u001b[0m                                 Traceback (most recent call last)",
            "\u001b[0;32m<ipython-input-9-e5111a595622>\u001b[0m in \u001b[0;36m<module>\u001b[0;34m()\u001b[0m\n\u001b[0;32m----> 1\u001b[0;31m \u001b[0mSimpleRNN\u001b[0m\u001b[0;34m(\u001b[0m\u001b[0munits\u001b[0m\u001b[0;34m,\u001b[0m \u001b[0mreturn_sequences\u001b[0m\u001b[0;34m=\u001b[0m\u001b[0;32mFalse\u001b[0m\u001b[0;34m,\u001b[0m \u001b[0mreturn_state\u001b[0m\u001b[0;34m=\u001b[0m\u001b[0;32mFalse\u001b[0m\u001b[0;34m)\u001b[0m\u001b[0;34m\u001b[0m\u001b[0;34m\u001b[0m\u001b[0m\n\u001b[0m",
            "\u001b[0;31mNameError\u001b[0m: name 'units' is not defined"
          ]
        }
      ]
    },
    {
      "cell_type": "code",
      "metadata": {
        "colab": {
          "base_uri": "https://localhost:8080/"
        },
        "id": "bGJRNrIqBdfV",
        "outputId": "9e11664f-f9f8-49ca-b74c-e0767ec81dec"
      },
      "source": [
        "#임의의 입력 데이터를 (1, 4, 5)크기로 생성 \n",
        "train_X = [[[0.1, 4.2, 1.5, 1.1, 2.8], [1.0, 3.1, 2.5, 0.7, 1.1], [0.3, 2.1, 1.5, 2.1, 0.1], [2.2, 1.4, 0.5, 0.9, 1.1]]] \n",
        "\n",
        "\n",
        "#3차원 “배열”로 바꿔주기\n",
        "train_X = np.array(train_X, dtype=np.float32)\n",
        "\n",
        "#올바르게 생성되었는지 확인해보기\n",
        "print(np.shape(train_X))\n",
        "print(train_X)"
      ],
      "execution_count": 11,
      "outputs": [
        {
          "output_type": "stream",
          "name": "stdout",
          "text": [
            "(1, 4, 5)\n",
            "[[[0.1 4.2 1.5 1.1 2.8]\n",
            "  [1.  3.1 2.5 0.7 1.1]\n",
            "  [0.3 2.1 1.5 2.1 0.1]\n",
            "  [2.2 1.4 0.5 0.9 1.1]]]\n"
          ]
        }
      ]
    },
    {
      "cell_type": "code",
      "metadata": {
        "id": "GkvovVYzCS4n"
      },
      "source": [
        "rnn = SimpleRNN(3)"
      ],
      "execution_count": 12,
      "outputs": []
    },
    {
      "cell_type": "code",
      "metadata": {
        "id": "n2yUD5jdCdx1"
      },
      "source": [
        "hidden_state=rnn(train_X)"
      ],
      "execution_count": 14,
      "outputs": []
    },
    {
      "cell_type": "code",
      "metadata": {
        "colab": {
          "base_uri": "https://localhost:8080/"
        },
        "id": "G1PsNVcsCgxC",
        "outputId": "407f505e-701b-4705-82ca-8b74d815c6e2"
      },
      "source": [
        "print(\"은닉층: {}, shape: {}\".format(hidden_state, hidden_state.shape))"
      ],
      "execution_count": 16,
      "outputs": [
        {
          "output_type": "stream",
          "name": "stdout",
          "text": [
            "은닉층: [[-0.99983406  0.7856068   0.22183956]], shape: (1, 3)\n"
          ]
        }
      ]
    },
    {
      "cell_type": "code",
      "metadata": {
        "id": "q836rHlwCu3Z"
      },
      "source": [
        "rnn = SimpleRNN(3, return_sequences=True)"
      ],
      "execution_count": 17,
      "outputs": []
    },
    {
      "cell_type": "code",
      "metadata": {
        "id": "XuG8VXUJDMQ4"
      },
      "source": [
        "hidden_state=rnn(train_X)"
      ],
      "execution_count": 19,
      "outputs": []
    },
    {
      "cell_type": "code",
      "metadata": {
        "colab": {
          "base_uri": "https://localhost:8080/"
        },
        "id": "xbmmE58bDPLB",
        "outputId": "778815be-11fd-4334-f8e2-6b51f0d6c0c2"
      },
      "source": [
        "print(\"은닉층 : {}, shape: {}\".format(hidden_state, hidden_state.shape))"
      ],
      "execution_count": 20,
      "outputs": [
        {
          "output_type": "stream",
          "name": "stdout",
          "text": [
            "은닉층 : [[[ 0.98273146  0.9670011   0.8644497 ]\n",
            "  [ 0.98643583 -0.17643024  0.4711671 ]\n",
            "  [ 0.95484823  0.7653335  -0.8967955 ]\n",
            "  [ 0.9919549  -0.59916824  0.77188826]]], shape: (1, 4, 3)\n"
          ]
        }
      ]
    },
    {
      "cell_type": "code",
      "metadata": {
        "id": "2xw4wXPnDXm7"
      },
      "source": [
        "import numpy as np \n",
        "\n"
      ],
      "execution_count": 21,
      "outputs": []
    },
    {
      "cell_type": "code",
      "metadata": {
        "id": "6FIYFpJED2f0"
      },
      "source": [
        "from tensorflow.keras.preprocessing.text import Tokenizer"
      ],
      "execution_count": 22,
      "outputs": []
    },
    {
      "cell_type": "code",
      "metadata": {
        "id": "ebGlWhddD3J5"
      },
      "source": [
        "from tensorflow.keras.preprocessing.sequence import pad_sequences"
      ],
      "execution_count": 23,
      "outputs": []
    },
    {
      "cell_type": "code",
      "metadata": {
        "id": "dnxL2HwRD_FN"
      },
      "source": [
        "from tensorflow.keras.utils import to_categorical"
      ],
      "execution_count": 24,
      "outputs": []
    },
    {
      "cell_type": "code",
      "metadata": {
        "id": "j91-pMw_EAq8"
      },
      "source": [
        "from tensorflow.keras.models import Sequential"
      ],
      "execution_count": 25,
      "outputs": []
    },
    {
      "cell_type": "code",
      "metadata": {
        "id": "rBFfUCVqEB8q"
      },
      "source": [
        "from tensorflow.keras.layers import Embedding, Dense, SimpleRNN"
      ],
      "execution_count": 26,
      "outputs": []
    },
    {
      "cell_type": "code",
      "metadata": {
        "id": "nXmIkZdBEDay"
      },
      "source": [
        "text=\"\"\"경마장에 있는 말이 뛰고 있다\\n\n",
        "그의 말이 법이다\\n\n",
        "가는 말이 고와야 오는 말이 곱다\"\"\"\n"
      ],
      "execution_count": 27,
      "outputs": []
    },
    {
      "cell_type": "code",
      "metadata": {
        "id": "yHPs8nc_ENQS"
      },
      "source": [
        "t = Tokenizer()"
      ],
      "execution_count": 28,
      "outputs": []
    },
    {
      "cell_type": "code",
      "metadata": {
        "id": "XUV64--ZEUr7"
      },
      "source": [
        "t.fit_on_texts([text])"
      ],
      "execution_count": 29,
      "outputs": []
    },
    {
      "cell_type": "code",
      "metadata": {
        "id": "tZ-2PQ7SEXaj"
      },
      "source": [
        "vocab_size=len(t.word_index) + 1"
      ],
      "execution_count": 30,
      "outputs": []
    },
    {
      "cell_type": "code",
      "metadata": {
        "colab": {
          "base_uri": "https://localhost:8080/"
        },
        "id": "FfXELquhEeFZ",
        "outputId": "146da0e6-47ed-4784-aa95-8e6379643c70"
      },
      "source": [
        "print(\"단어 개수:\", vocab_size)"
      ],
      "execution_count": 31,
      "outputs": [
        {
          "output_type": "stream",
          "name": "stdout",
          "text": [
            "단어 개수: 12\n"
          ]
        }
      ]
    },
    {
      "cell_type": "code",
      "metadata": {
        "colab": {
          "base_uri": "https://localhost:8080/"
        },
        "id": "c26BYbQKEi3n",
        "outputId": "bc9f9533-9b3d-4e06-8caf-e61741dc93a9"
      },
      "source": [
        "print(t.word_index)"
      ],
      "execution_count": 32,
      "outputs": [
        {
          "output_type": "stream",
          "name": "stdout",
          "text": [
            "{'말이': 1, '경마장에': 2, '있는': 3, '뛰고': 4, '있다': 5, '그의': 6, '법이다': 7, '가는': 8, '고와야': 9, '오는': 10, '곱다': 11}\n"
          ]
        }
      ]
    },
    {
      "cell_type": "code",
      "metadata": {
        "id": "RHa7QU4jEkl8"
      },
      "source": [
        "sequences = list()"
      ],
      "execution_count": 33,
      "outputs": []
    },
    {
      "cell_type": "code",
      "metadata": {
        "colab": {
          "base_uri": "https://localhost:8080/"
        },
        "id": "7zd1khqSE-1O",
        "outputId": "f1aa6520-3668-4069-8621-38ae054b49c5"
      },
      "source": [
        "#빈 리스트 만들기\n",
        "sequences = list()\n",
        "for line in text.split('\\n'):\n",
        "  #text_to_sequences( )는 텍스트 안의 단어들을 숫자의 시퀀스 형태로 변환한다.\n",
        "\tencoded = t.texts_to_sequences([line])[0]\n",
        "\n",
        "\tfor i in range(1, len(encoded)):\n",
        "\t\tsequence = encoded[:i+1]\n",
        "\t\tsequences.append(sequence)\n",
        "\n",
        "print(\"학습에 사용할 샘플의 개수: %d\" %(len(sequences))) \n",
        "\n",
        "print(sequences)"
      ],
      "execution_count": 35,
      "outputs": [
        {
          "output_type": "stream",
          "name": "stdout",
          "text": [
            "학습에 사용할 샘플의 개수: 11\n",
            "[[2, 3], [2, 3, 1], [2, 3, 1, 4], [2, 3, 1, 4, 5], [6, 1], [6, 1, 7], [8, 1], [8, 1, 9], [8, 1, 9, 10], [8, 1, 9, 10, 1], [8, 1, 9, 10, 1, 11]]\n"
          ]
        }
      ]
    },
    {
      "cell_type": "code",
      "metadata": {
        "colab": {
          "base_uri": "https://localhost:8080/"
        },
        "id": "hfreWN5nFXsr",
        "outputId": "d15b0959-23cc-48b3-d8bd-ac4fe179579a"
      },
      "source": [
        "#전체 샘플의 길이 일치 시켜주기(가장 긴 샘플의 길이를 기준으로)\n",
        "max_len=max(len(l) for l in sequences)\n",
        "print('샘플 최대의 길이: %d' %max_len)\n",
        "\n",
        "\n",
        "#전체 샘플의 길이를 6으로 맞춰준다 = padding\n",
        "#'pre' 옵션을 주면 길이가 6보다 짧은 샘플의 앞에 0을 채운다\n",
        "sequences = pad_sequences(sequences, maxlen=max_len, padding='pre')\n",
        "\n",
        "print(sequences)"
      ],
      "execution_count": 61,
      "outputs": [
        {
          "output_type": "stream",
          "name": "stdout",
          "text": [
            "샘플 최대의 길이: 6\n",
            "[[ 0  0  0  0  2  3]\n",
            " [ 0  0  0  2  3  1]\n",
            " [ 0  0  2  3  1  4]\n",
            " [ 0  2  3  1  4  5]\n",
            " [ 0  0  0  0  6  1]\n",
            " [ 0  0  0  6  1  7]\n",
            " [ 0  0  0  0  8  1]\n",
            " [ 0  0  0  8  1  9]\n",
            " [ 0  0  8  1  9 10]\n",
            " [ 0  8  1  9 10  1]\n",
            " [ 8  1  9 10  1 11]]\n"
          ]
        }
      ]
    },
    {
      "cell_type": "code",
      "metadata": {
        "colab": {
          "base_uri": "https://localhost:8080/"
        },
        "id": "P67qa-JIFrGa",
        "outputId": "c46de1a5-5079-4426-fe82-66c381ed443e"
      },
      "source": [
        "sequences = np.array(sequences)\n",
        "\n",
        "# X에는 리스트의 마지막 값을 제외한 값을 넣고, Y에는 리스트의 마지막 값만 저장(label)\n",
        "X = sequences[:, :-1] \n",
        "Y = sequences[:, -1]\n",
        "\n",
        "print(Y)"
      ],
      "execution_count": 71,
      "outputs": [
        {
          "output_type": "stream",
          "name": "stdout",
          "text": [
            "[ 3  1  4  5  1  7  1  9 10  1 11]\n"
          ]
        }
      ]
    },
    {
      "cell_type": "code",
      "metadata": {
        "id": "dHTUVNk4F4R6"
      },
      "source": [
        "sequences = np.array(sequences)"
      ],
      "execution_count": 72,
      "outputs": []
    },
    {
      "cell_type": "code",
      "metadata": {
        "colab": {
          "base_uri": "https://localhost:8080/"
        },
        "id": "RksUPJgwF-Fw",
        "outputId": "f5c5169b-6504-446e-99ec-127d8ac98356"
      },
      "source": [
        "X=sequences[:, :-1]\n",
        "Y=sequences[:, -1]\n",
        "\n",
        "print(Y)"
      ],
      "execution_count": 73,
      "outputs": [
        {
          "output_type": "stream",
          "name": "stdout",
          "text": [
            "[ 3  1  4  5  1  7  1  9 10  1 11]\n"
          ]
        }
      ]
    },
    {
      "cell_type": "code",
      "metadata": {
        "colab": {
          "base_uri": "https://localhost:8080/"
        },
        "id": "TvjWdSnEGNuO",
        "outputId": "ad0a5d59-0a61-4826-c261-2eecf4be1ee5"
      },
      "source": [
        "#원_핫 인코딩\n",
        "Y=to_categorical(Y, num_classes=vocab_size)\n",
        "\n",
        "print(Y)"
      ],
      "execution_count": 74,
      "outputs": [
        {
          "output_type": "stream",
          "name": "stdout",
          "text": [
            "[[0. 0. 0. 1. 0. 0. 0. 0. 0. 0. 0. 0.]\n",
            " [0. 1. 0. 0. 0. 0. 0. 0. 0. 0. 0. 0.]\n",
            " [0. 0. 0. 0. 1. 0. 0. 0. 0. 0. 0. 0.]\n",
            " [0. 0. 0. 0. 0. 1. 0. 0. 0. 0. 0. 0.]\n",
            " [0. 1. 0. 0. 0. 0. 0. 0. 0. 0. 0. 0.]\n",
            " [0. 0. 0. 0. 0. 0. 0. 1. 0. 0. 0. 0.]\n",
            " [0. 1. 0. 0. 0. 0. 0. 0. 0. 0. 0. 0.]\n",
            " [0. 0. 0. 0. 0. 0. 0. 0. 0. 1. 0. 0.]\n",
            " [0. 0. 0. 0. 0. 0. 0. 0. 0. 0. 1. 0.]\n",
            " [0. 1. 0. 0. 0. 0. 0. 0. 0. 0. 0. 0.]\n",
            " [0. 0. 0. 0. 0. 0. 0. 0. 0. 0. 0. 1.]]\n"
          ]
        }
      ]
    },
    {
      "cell_type": "code",
      "metadata": {
        "id": "K8mU8UP7GYfY"
      },
      "source": [
        "model = Sequential()"
      ],
      "execution_count": 75,
      "outputs": []
    },
    {
      "cell_type": "code",
      "metadata": {
        "id": "nO7BCTuzGna7"
      },
      "source": [
        "model.add(Embedding(vocab_size, 10, input_length=max_len-1))"
      ],
      "execution_count": 76,
      "outputs": []
    },
    {
      "cell_type": "code",
      "metadata": {
        "id": "VSs108z1G0k_"
      },
      "source": [
        "model.add(SimpleRNN(32))"
      ],
      "execution_count": 77,
      "outputs": []
    },
    {
      "cell_type": "code",
      "metadata": {
        "id": "rOvxzge_G57z"
      },
      "source": [
        "model.add(Dense(vocab_size, activation='softmax'))"
      ],
      "execution_count": 78,
      "outputs": []
    },
    {
      "cell_type": "code",
      "metadata": {
        "id": "EU5dLprYHJgd"
      },
      "source": [
        "model.compile(loss='categorical_crossentropy', optimizer='adam', metrics=['accuracy'])"
      ],
      "execution_count": 79,
      "outputs": []
    },
    {
      "cell_type": "code",
      "metadata": {
        "colab": {
          "base_uri": "https://localhost:8080/"
        },
        "id": "EZvWZvhaH44-",
        "outputId": "0da6c014-fa47-43e1-9916-3b25d657dc40"
      },
      "source": [
        "model.fit(X,Y, epochs=200, verbose=1)"
      ],
      "execution_count": 80,
      "outputs": [
        {
          "output_type": "stream",
          "name": "stdout",
          "text": [
            "Epoch 1/200\n",
            "1/1 [==============================] - 1s 1s/step - loss: 2.4780 - accuracy: 0.0000e+00\n",
            "Epoch 2/200\n",
            "1/1 [==============================] - 0s 11ms/step - loss: 2.4621 - accuracy: 0.0909\n",
            "Epoch 3/200\n",
            "1/1 [==============================] - 0s 12ms/step - loss: 2.4461 - accuracy: 0.1818\n",
            "Epoch 4/200\n",
            "1/1 [==============================] - 0s 7ms/step - loss: 2.4301 - accuracy: 0.3636\n",
            "Epoch 5/200\n",
            "1/1 [==============================] - 0s 6ms/step - loss: 2.4139 - accuracy: 0.2727\n",
            "Epoch 6/200\n",
            "1/1 [==============================] - 0s 14ms/step - loss: 2.3973 - accuracy: 0.3636\n",
            "Epoch 7/200\n",
            "1/1 [==============================] - 0s 8ms/step - loss: 2.3802 - accuracy: 0.3636\n",
            "Epoch 8/200\n",
            "1/1 [==============================] - 0s 10ms/step - loss: 2.3626 - accuracy: 0.3636\n",
            "Epoch 9/200\n",
            "1/1 [==============================] - 0s 10ms/step - loss: 2.3444 - accuracy: 0.3636\n",
            "Epoch 10/200\n",
            "1/1 [==============================] - 0s 9ms/step - loss: 2.3255 - accuracy: 0.3636\n",
            "Epoch 11/200\n",
            "1/1 [==============================] - 0s 7ms/step - loss: 2.3058 - accuracy: 0.3636\n",
            "Epoch 12/200\n",
            "1/1 [==============================] - 0s 7ms/step - loss: 2.2854 - accuracy: 0.3636\n",
            "Epoch 13/200\n",
            "1/1 [==============================] - 0s 11ms/step - loss: 2.2642 - accuracy: 0.3636\n",
            "Epoch 14/200\n",
            "1/1 [==============================] - 0s 9ms/step - loss: 2.2423 - accuracy: 0.3636\n",
            "Epoch 15/200\n",
            "1/1 [==============================] - 0s 24ms/step - loss: 2.2197 - accuracy: 0.3636\n",
            "Epoch 16/200\n",
            "1/1 [==============================] - 0s 15ms/step - loss: 2.1965 - accuracy: 0.3636\n",
            "Epoch 17/200\n",
            "1/1 [==============================] - 0s 16ms/step - loss: 2.1729 - accuracy: 0.3636\n",
            "Epoch 18/200\n",
            "1/1 [==============================] - 0s 13ms/step - loss: 2.1490 - accuracy: 0.3636\n",
            "Epoch 19/200\n",
            "1/1 [==============================] - 0s 12ms/step - loss: 2.1251 - accuracy: 0.3636\n",
            "Epoch 20/200\n",
            "1/1 [==============================] - 0s 19ms/step - loss: 2.1015 - accuracy: 0.3636\n",
            "Epoch 21/200\n",
            "1/1 [==============================] - 0s 14ms/step - loss: 2.0785 - accuracy: 0.3636\n",
            "Epoch 22/200\n",
            "1/1 [==============================] - 0s 13ms/step - loss: 2.0565 - accuracy: 0.3636\n",
            "Epoch 23/200\n",
            "1/1 [==============================] - 0s 12ms/step - loss: 2.0358 - accuracy: 0.3636\n",
            "Epoch 24/200\n",
            "1/1 [==============================] - 0s 27ms/step - loss: 2.0169 - accuracy: 0.3636\n",
            "Epoch 25/200\n",
            "1/1 [==============================] - 0s 13ms/step - loss: 1.9999 - accuracy: 0.3636\n",
            "Epoch 26/200\n",
            "1/1 [==============================] - 0s 12ms/step - loss: 1.9849 - accuracy: 0.3636\n",
            "Epoch 27/200\n",
            "1/1 [==============================] - 0s 10ms/step - loss: 1.9718 - accuracy: 0.3636\n",
            "Epoch 28/200\n",
            "1/1 [==============================] - 0s 11ms/step - loss: 1.9601 - accuracy: 0.3636\n",
            "Epoch 29/200\n",
            "1/1 [==============================] - 0s 10ms/step - loss: 1.9493 - accuracy: 0.3636\n",
            "Epoch 30/200\n",
            "1/1 [==============================] - 0s 9ms/step - loss: 1.9389 - accuracy: 0.3636\n",
            "Epoch 31/200\n",
            "1/1 [==============================] - 0s 10ms/step - loss: 1.9283 - accuracy: 0.3636\n",
            "Epoch 32/200\n",
            "1/1 [==============================] - 0s 11ms/step - loss: 1.9171 - accuracy: 0.3636\n",
            "Epoch 33/200\n",
            "1/1 [==============================] - 0s 10ms/step - loss: 1.9050 - accuracy: 0.3636\n",
            "Epoch 34/200\n",
            "1/1 [==============================] - 0s 9ms/step - loss: 1.8919 - accuracy: 0.3636\n",
            "Epoch 35/200\n",
            "1/1 [==============================] - 0s 11ms/step - loss: 1.8780 - accuracy: 0.3636\n",
            "Epoch 36/200\n",
            "1/1 [==============================] - 0s 13ms/step - loss: 1.8635 - accuracy: 0.3636\n",
            "Epoch 37/200\n",
            "1/1 [==============================] - 0s 14ms/step - loss: 1.8486 - accuracy: 0.3636\n",
            "Epoch 38/200\n",
            "1/1 [==============================] - 0s 10ms/step - loss: 1.8335 - accuracy: 0.3636\n",
            "Epoch 39/200\n",
            "1/1 [==============================] - 0s 11ms/step - loss: 1.8185 - accuracy: 0.3636\n",
            "Epoch 40/200\n",
            "1/1 [==============================] - 0s 18ms/step - loss: 1.8036 - accuracy: 0.3636\n",
            "Epoch 41/200\n",
            "1/1 [==============================] - 0s 12ms/step - loss: 1.7888 - accuracy: 0.3636\n",
            "Epoch 42/200\n",
            "1/1 [==============================] - 0s 18ms/step - loss: 1.7742 - accuracy: 0.3636\n",
            "Epoch 43/200\n",
            "1/1 [==============================] - 0s 11ms/step - loss: 1.7596 - accuracy: 0.3636\n",
            "Epoch 44/200\n",
            "1/1 [==============================] - 0s 14ms/step - loss: 1.7449 - accuracy: 0.3636\n",
            "Epoch 45/200\n",
            "1/1 [==============================] - 0s 24ms/step - loss: 1.7299 - accuracy: 0.3636\n",
            "Epoch 46/200\n",
            "1/1 [==============================] - 0s 17ms/step - loss: 1.7145 - accuracy: 0.3636\n",
            "Epoch 47/200\n",
            "1/1 [==============================] - 0s 16ms/step - loss: 1.6986 - accuracy: 0.4545\n",
            "Epoch 48/200\n",
            "1/1 [==============================] - 0s 17ms/step - loss: 1.6822 - accuracy: 0.4545\n",
            "Epoch 49/200\n",
            "1/1 [==============================] - 0s 15ms/step - loss: 1.6651 - accuracy: 0.4545\n",
            "Epoch 50/200\n",
            "1/1 [==============================] - 0s 16ms/step - loss: 1.6473 - accuracy: 0.4545\n",
            "Epoch 51/200\n",
            "1/1 [==============================] - 0s 24ms/step - loss: 1.6290 - accuracy: 0.4545\n",
            "Epoch 52/200\n",
            "1/1 [==============================] - 0s 19ms/step - loss: 1.6101 - accuracy: 0.5455\n",
            "Epoch 53/200\n",
            "1/1 [==============================] - 0s 14ms/step - loss: 1.5907 - accuracy: 0.5455\n",
            "Epoch 54/200\n",
            "1/1 [==============================] - 0s 16ms/step - loss: 1.5709 - accuracy: 0.5455\n",
            "Epoch 55/200\n",
            "1/1 [==============================] - 0s 19ms/step - loss: 1.5507 - accuracy: 0.5455\n",
            "Epoch 56/200\n",
            "1/1 [==============================] - 0s 12ms/step - loss: 1.5301 - accuracy: 0.5455\n",
            "Epoch 57/200\n",
            "1/1 [==============================] - 0s 13ms/step - loss: 1.5092 - accuracy: 0.5455\n",
            "Epoch 58/200\n",
            "1/1 [==============================] - 0s 17ms/step - loss: 1.4879 - accuracy: 0.5455\n",
            "Epoch 59/200\n",
            "1/1 [==============================] - 0s 15ms/step - loss: 1.4664 - accuracy: 0.5455\n",
            "Epoch 60/200\n",
            "1/1 [==============================] - 0s 11ms/step - loss: 1.4446 - accuracy: 0.5455\n",
            "Epoch 61/200\n",
            "1/1 [==============================] - 0s 26ms/step - loss: 1.4224 - accuracy: 0.5455\n",
            "Epoch 62/200\n",
            "1/1 [==============================] - 0s 9ms/step - loss: 1.4001 - accuracy: 0.5455\n",
            "Epoch 63/200\n",
            "1/1 [==============================] - 0s 8ms/step - loss: 1.3775 - accuracy: 0.5455\n",
            "Epoch 64/200\n",
            "1/1 [==============================] - 0s 14ms/step - loss: 1.3547 - accuracy: 0.5455\n",
            "Epoch 65/200\n",
            "1/1 [==============================] - 0s 8ms/step - loss: 1.3318 - accuracy: 0.5455\n",
            "Epoch 66/200\n",
            "1/1 [==============================] - 0s 10ms/step - loss: 1.3089 - accuracy: 0.5455\n",
            "Epoch 67/200\n",
            "1/1 [==============================] - 0s 13ms/step - loss: 1.2859 - accuracy: 0.5455\n",
            "Epoch 68/200\n",
            "1/1 [==============================] - 0s 16ms/step - loss: 1.2630 - accuracy: 0.5455\n",
            "Epoch 69/200\n",
            "1/1 [==============================] - 0s 21ms/step - loss: 1.2402 - accuracy: 0.5455\n",
            "Epoch 70/200\n",
            "1/1 [==============================] - 0s 16ms/step - loss: 1.2176 - accuracy: 0.6364\n",
            "Epoch 71/200\n",
            "1/1 [==============================] - 0s 10ms/step - loss: 1.1953 - accuracy: 0.6364\n",
            "Epoch 72/200\n",
            "1/1 [==============================] - 0s 8ms/step - loss: 1.1732 - accuracy: 0.6364\n",
            "Epoch 73/200\n",
            "1/1 [==============================] - 0s 9ms/step - loss: 1.1514 - accuracy: 0.6364\n",
            "Epoch 74/200\n",
            "1/1 [==============================] - 0s 8ms/step - loss: 1.1299 - accuracy: 0.6364\n",
            "Epoch 75/200\n",
            "1/1 [==============================] - 0s 14ms/step - loss: 1.1089 - accuracy: 0.6364\n",
            "Epoch 76/200\n",
            "1/1 [==============================] - 0s 7ms/step - loss: 1.0882 - accuracy: 0.6364\n",
            "Epoch 77/200\n",
            "1/1 [==============================] - 0s 12ms/step - loss: 1.0680 - accuracy: 0.7273\n",
            "Epoch 78/200\n",
            "1/1 [==============================] - 0s 11ms/step - loss: 1.0482 - accuracy: 0.7273\n",
            "Epoch 79/200\n",
            "1/1 [==============================] - 0s 9ms/step - loss: 1.0289 - accuracy: 0.7273\n",
            "Epoch 80/200\n",
            "1/1 [==============================] - 0s 8ms/step - loss: 1.0100 - accuracy: 0.7273\n",
            "Epoch 81/200\n",
            "1/1 [==============================] - 0s 8ms/step - loss: 0.9917 - accuracy: 0.7273\n",
            "Epoch 82/200\n",
            "1/1 [==============================] - 0s 8ms/step - loss: 0.9738 - accuracy: 0.7273\n",
            "Epoch 83/200\n",
            "1/1 [==============================] - 0s 21ms/step - loss: 0.9563 - accuracy: 0.7273\n",
            "Epoch 84/200\n",
            "1/1 [==============================] - 0s 18ms/step - loss: 0.9393 - accuracy: 0.7273\n",
            "Epoch 85/200\n",
            "1/1 [==============================] - 0s 14ms/step - loss: 0.9228 - accuracy: 0.7273\n",
            "Epoch 86/200\n",
            "1/1 [==============================] - 0s 15ms/step - loss: 0.9066 - accuracy: 0.7273\n",
            "Epoch 87/200\n",
            "1/1 [==============================] - 0s 13ms/step - loss: 0.8908 - accuracy: 0.7273\n",
            "Epoch 88/200\n",
            "1/1 [==============================] - 0s 9ms/step - loss: 0.8754 - accuracy: 0.7273\n",
            "Epoch 89/200\n",
            "1/1 [==============================] - 0s 26ms/step - loss: 0.8604 - accuracy: 0.7273\n",
            "Epoch 90/200\n",
            "1/1 [==============================] - 0s 15ms/step - loss: 0.8456 - accuracy: 0.7273\n",
            "Epoch 91/200\n",
            "1/1 [==============================] - 0s 16ms/step - loss: 0.8312 - accuracy: 0.7273\n",
            "Epoch 92/200\n",
            "1/1 [==============================] - 0s 16ms/step - loss: 0.8171 - accuracy: 0.7273\n",
            "Epoch 93/200\n",
            "1/1 [==============================] - 0s 19ms/step - loss: 0.8032 - accuracy: 0.7273\n",
            "Epoch 94/200\n",
            "1/1 [==============================] - 0s 24ms/step - loss: 0.7896 - accuracy: 0.7273\n",
            "Epoch 95/200\n",
            "1/1 [==============================] - 0s 16ms/step - loss: 0.7763 - accuracy: 0.7273\n",
            "Epoch 96/200\n",
            "1/1 [==============================] - 0s 15ms/step - loss: 0.7633 - accuracy: 0.7273\n",
            "Epoch 97/200\n",
            "1/1 [==============================] - 0s 15ms/step - loss: 0.7505 - accuracy: 0.7273\n",
            "Epoch 98/200\n",
            "1/1 [==============================] - 0s 20ms/step - loss: 0.7379 - accuracy: 0.7273\n",
            "Epoch 99/200\n",
            "1/1 [==============================] - 0s 13ms/step - loss: 0.7257 - accuracy: 0.7273\n",
            "Epoch 100/200\n",
            "1/1 [==============================] - 0s 12ms/step - loss: 0.7136 - accuracy: 0.8182\n",
            "Epoch 101/200\n",
            "1/1 [==============================] - 0s 14ms/step - loss: 0.7018 - accuracy: 0.8182\n",
            "Epoch 102/200\n",
            "1/1 [==============================] - 0s 10ms/step - loss: 0.6903 - accuracy: 0.8182\n",
            "Epoch 103/200\n",
            "1/1 [==============================] - 0s 15ms/step - loss: 0.6789 - accuracy: 0.8182\n",
            "Epoch 104/200\n",
            "1/1 [==============================] - 0s 9ms/step - loss: 0.6679 - accuracy: 0.8182\n",
            "Epoch 105/200\n",
            "1/1 [==============================] - 0s 15ms/step - loss: 0.6570 - accuracy: 0.8182\n",
            "Epoch 106/200\n",
            "1/1 [==============================] - 0s 15ms/step - loss: 0.6464 - accuracy: 0.8182\n",
            "Epoch 107/200\n",
            "1/1 [==============================] - 0s 8ms/step - loss: 0.6360 - accuracy: 0.8182\n",
            "Epoch 108/200\n",
            "1/1 [==============================] - 0s 7ms/step - loss: 0.6259 - accuracy: 0.8182\n",
            "Epoch 109/200\n",
            "1/1 [==============================] - 0s 12ms/step - loss: 0.6159 - accuracy: 0.8182\n",
            "Epoch 110/200\n",
            "1/1 [==============================] - 0s 18ms/step - loss: 0.6062 - accuracy: 0.8182\n",
            "Epoch 111/200\n",
            "1/1 [==============================] - 0s 13ms/step - loss: 0.5966 - accuracy: 0.8182\n",
            "Epoch 112/200\n",
            "1/1 [==============================] - 0s 17ms/step - loss: 0.5873 - accuracy: 0.8182\n",
            "Epoch 113/200\n",
            "1/1 [==============================] - 0s 9ms/step - loss: 0.5782 - accuracy: 0.8182\n",
            "Epoch 114/200\n",
            "1/1 [==============================] - 0s 13ms/step - loss: 0.5693 - accuracy: 0.9091\n",
            "Epoch 115/200\n",
            "1/1 [==============================] - 0s 12ms/step - loss: 0.5605 - accuracy: 0.9091\n",
            "Epoch 116/200\n",
            "1/1 [==============================] - 0s 22ms/step - loss: 0.5519 - accuracy: 0.9091\n",
            "Epoch 117/200\n",
            "1/1 [==============================] - 0s 10ms/step - loss: 0.5435 - accuracy: 0.9091\n",
            "Epoch 118/200\n",
            "1/1 [==============================] - 0s 15ms/step - loss: 0.5353 - accuracy: 0.9091\n",
            "Epoch 119/200\n",
            "1/1 [==============================] - 0s 13ms/step - loss: 0.5273 - accuracy: 0.9091\n",
            "Epoch 120/200\n",
            "1/1 [==============================] - 0s 17ms/step - loss: 0.5194 - accuracy: 0.9091\n",
            "Epoch 121/200\n",
            "1/1 [==============================] - 0s 8ms/step - loss: 0.5116 - accuracy: 0.9091\n",
            "Epoch 122/200\n",
            "1/1 [==============================] - 0s 17ms/step - loss: 0.5040 - accuracy: 0.9091\n",
            "Epoch 123/200\n",
            "1/1 [==============================] - 0s 14ms/step - loss: 0.4966 - accuracy: 0.9091\n",
            "Epoch 124/200\n",
            "1/1 [==============================] - 0s 9ms/step - loss: 0.4892 - accuracy: 0.9091\n",
            "Epoch 125/200\n",
            "1/1 [==============================] - 0s 12ms/step - loss: 0.4821 - accuracy: 0.9091\n",
            "Epoch 126/200\n",
            "1/1 [==============================] - 0s 13ms/step - loss: 0.4750 - accuracy: 0.9091\n",
            "Epoch 127/200\n",
            "1/1 [==============================] - 0s 8ms/step - loss: 0.4681 - accuracy: 0.9091\n",
            "Epoch 128/200\n",
            "1/1 [==============================] - 0s 12ms/step - loss: 0.4613 - accuracy: 0.9091\n",
            "Epoch 129/200\n",
            "1/1 [==============================] - 0s 7ms/step - loss: 0.4546 - accuracy: 0.9091\n",
            "Epoch 130/200\n",
            "1/1 [==============================] - 0s 9ms/step - loss: 0.4480 - accuracy: 0.9091\n",
            "Epoch 131/200\n",
            "1/1 [==============================] - 0s 9ms/step - loss: 0.4415 - accuracy: 0.9091\n",
            "Epoch 132/200\n",
            "1/1 [==============================] - 0s 8ms/step - loss: 0.4351 - accuracy: 0.9091\n",
            "Epoch 133/200\n",
            "1/1 [==============================] - 0s 8ms/step - loss: 0.4288 - accuracy: 0.9091\n",
            "Epoch 134/200\n",
            "1/1 [==============================] - 0s 12ms/step - loss: 0.4226 - accuracy: 0.9091\n",
            "Epoch 135/200\n",
            "1/1 [==============================] - 0s 15ms/step - loss: 0.4166 - accuracy: 0.9091\n",
            "Epoch 136/200\n",
            "1/1 [==============================] - 0s 9ms/step - loss: 0.4105 - accuracy: 0.9091\n",
            "Epoch 137/200\n",
            "1/1 [==============================] - 0s 9ms/step - loss: 0.4046 - accuracy: 0.9091\n",
            "Epoch 138/200\n",
            "1/1 [==============================] - 0s 15ms/step - loss: 0.3988 - accuracy: 0.9091\n",
            "Epoch 139/200\n",
            "1/1 [==============================] - 0s 16ms/step - loss: 0.3930 - accuracy: 0.9091\n",
            "Epoch 140/200\n",
            "1/1 [==============================] - 0s 9ms/step - loss: 0.3874 - accuracy: 0.9091\n",
            "Epoch 141/200\n",
            "1/1 [==============================] - 0s 28ms/step - loss: 0.3818 - accuracy: 0.9091\n",
            "Epoch 142/200\n",
            "1/1 [==============================] - 0s 12ms/step - loss: 0.3762 - accuracy: 0.9091\n",
            "Epoch 143/200\n",
            "1/1 [==============================] - 0s 12ms/step - loss: 0.3708 - accuracy: 0.9091\n",
            "Epoch 144/200\n",
            "1/1 [==============================] - 0s 11ms/step - loss: 0.3654 - accuracy: 0.9091\n",
            "Epoch 145/200\n",
            "1/1 [==============================] - 0s 15ms/step - loss: 0.3600 - accuracy: 0.9091\n",
            "Epoch 146/200\n",
            "1/1 [==============================] - 0s 16ms/step - loss: 0.3548 - accuracy: 0.9091\n",
            "Epoch 147/200\n",
            "1/1 [==============================] - 0s 15ms/step - loss: 0.3495 - accuracy: 0.9091\n",
            "Epoch 148/200\n",
            "1/1 [==============================] - 0s 18ms/step - loss: 0.3444 - accuracy: 0.9091\n",
            "Epoch 149/200\n",
            "1/1 [==============================] - 0s 9ms/step - loss: 0.3393 - accuracy: 0.9091\n",
            "Epoch 150/200\n",
            "1/1 [==============================] - 0s 10ms/step - loss: 0.3343 - accuracy: 0.9091\n",
            "Epoch 151/200\n",
            "1/1 [==============================] - 0s 12ms/step - loss: 0.3293 - accuracy: 0.9091\n",
            "Epoch 152/200\n",
            "1/1 [==============================] - 0s 11ms/step - loss: 0.3244 - accuracy: 0.9091\n",
            "Epoch 153/200\n",
            "1/1 [==============================] - 0s 20ms/step - loss: 0.3195 - accuracy: 0.9091\n",
            "Epoch 154/200\n",
            "1/1 [==============================] - 0s 18ms/step - loss: 0.3147 - accuracy: 0.9091\n",
            "Epoch 155/200\n",
            "1/1 [==============================] - 0s 9ms/step - loss: 0.3099 - accuracy: 0.9091\n",
            "Epoch 156/200\n",
            "1/1 [==============================] - 0s 12ms/step - loss: 0.3052 - accuracy: 0.9091\n",
            "Epoch 157/200\n",
            "1/1 [==============================] - 0s 22ms/step - loss: 0.3005 - accuracy: 0.9091\n",
            "Epoch 158/200\n",
            "1/1 [==============================] - 0s 17ms/step - loss: 0.2959 - accuracy: 0.9091\n",
            "Epoch 159/200\n",
            "1/1 [==============================] - 0s 17ms/step - loss: 0.2913 - accuracy: 0.9091\n",
            "Epoch 160/200\n",
            "1/1 [==============================] - 0s 20ms/step - loss: 0.2867 - accuracy: 0.9091\n",
            "Epoch 161/200\n",
            "1/1 [==============================] - 0s 12ms/step - loss: 0.2823 - accuracy: 0.9091\n",
            "Epoch 162/200\n",
            "1/1 [==============================] - 0s 41ms/step - loss: 0.2778 - accuracy: 0.9091\n",
            "Epoch 163/200\n",
            "1/1 [==============================] - 0s 14ms/step - loss: 0.2734 - accuracy: 0.9091\n",
            "Epoch 164/200\n",
            "1/1 [==============================] - 0s 17ms/step - loss: 0.2691 - accuracy: 0.9091\n",
            "Epoch 165/200\n",
            "1/1 [==============================] - 0s 15ms/step - loss: 0.2648 - accuracy: 0.9091\n",
            "Epoch 166/200\n",
            "1/1 [==============================] - 0s 14ms/step - loss: 0.2605 - accuracy: 0.9091\n",
            "Epoch 167/200\n",
            "1/1 [==============================] - 0s 11ms/step - loss: 0.2563 - accuracy: 0.9091\n",
            "Epoch 168/200\n",
            "1/1 [==============================] - 0s 22ms/step - loss: 0.2521 - accuracy: 0.9091\n",
            "Epoch 169/200\n",
            "1/1 [==============================] - 0s 15ms/step - loss: 0.2480 - accuracy: 0.9091\n",
            "Epoch 170/200\n",
            "1/1 [==============================] - 0s 9ms/step - loss: 0.2439 - accuracy: 1.0000\n",
            "Epoch 171/200\n",
            "1/1 [==============================] - 0s 14ms/step - loss: 0.2399 - accuracy: 1.0000\n",
            "Epoch 172/200\n",
            "1/1 [==============================] - 0s 10ms/step - loss: 0.2359 - accuracy: 1.0000\n",
            "Epoch 173/200\n",
            "1/1 [==============================] - 0s 11ms/step - loss: 0.2320 - accuracy: 1.0000\n",
            "Epoch 174/200\n",
            "1/1 [==============================] - 0s 22ms/step - loss: 0.2281 - accuracy: 1.0000\n",
            "Epoch 175/200\n",
            "1/1 [==============================] - 0s 9ms/step - loss: 0.2243 - accuracy: 1.0000\n",
            "Epoch 176/200\n",
            "1/1 [==============================] - 0s 7ms/step - loss: 0.2205 - accuracy: 1.0000\n",
            "Epoch 177/200\n",
            "1/1 [==============================] - 0s 8ms/step - loss: 0.2168 - accuracy: 1.0000\n",
            "Epoch 178/200\n",
            "1/1 [==============================] - 0s 10ms/step - loss: 0.2131 - accuracy: 1.0000\n",
            "Epoch 179/200\n",
            "1/1 [==============================] - 0s 10ms/step - loss: 0.2094 - accuracy: 1.0000\n",
            "Epoch 180/200\n",
            "1/1 [==============================] - 0s 11ms/step - loss: 0.2058 - accuracy: 1.0000\n",
            "Epoch 181/200\n",
            "1/1 [==============================] - 0s 11ms/step - loss: 0.2023 - accuracy: 1.0000\n",
            "Epoch 182/200\n",
            "1/1 [==============================] - 0s 10ms/step - loss: 0.1988 - accuracy: 1.0000\n",
            "Epoch 183/200\n",
            "1/1 [==============================] - 0s 10ms/step - loss: 0.1954 - accuracy: 1.0000\n",
            "Epoch 184/200\n",
            "1/1 [==============================] - 0s 9ms/step - loss: 0.1920 - accuracy: 1.0000\n",
            "Epoch 185/200\n",
            "1/1 [==============================] - 0s 10ms/step - loss: 0.1886 - accuracy: 1.0000\n",
            "Epoch 186/200\n",
            "1/1 [==============================] - 0s 11ms/step - loss: 0.1854 - accuracy: 1.0000\n",
            "Epoch 187/200\n",
            "1/1 [==============================] - 0s 10ms/step - loss: 0.1821 - accuracy: 1.0000\n",
            "Epoch 188/200\n",
            "1/1 [==============================] - 0s 14ms/step - loss: 0.1789 - accuracy: 1.0000\n",
            "Epoch 189/200\n",
            "1/1 [==============================] - 0s 11ms/step - loss: 0.1758 - accuracy: 1.0000\n",
            "Epoch 190/200\n",
            "1/1 [==============================] - 0s 11ms/step - loss: 0.1727 - accuracy: 1.0000\n",
            "Epoch 191/200\n",
            "1/1 [==============================] - 0s 13ms/step - loss: 0.1697 - accuracy: 1.0000\n",
            "Epoch 192/200\n",
            "1/1 [==============================] - 0s 13ms/step - loss: 0.1667 - accuracy: 1.0000\n",
            "Epoch 193/200\n",
            "1/1 [==============================] - 0s 9ms/step - loss: 0.1638 - accuracy: 1.0000\n",
            "Epoch 194/200\n",
            "1/1 [==============================] - 0s 11ms/step - loss: 0.1609 - accuracy: 1.0000\n",
            "Epoch 195/200\n",
            "1/1 [==============================] - 0s 10ms/step - loss: 0.1581 - accuracy: 1.0000\n",
            "Epoch 196/200\n",
            "1/1 [==============================] - 0s 12ms/step - loss: 0.1553 - accuracy: 1.0000\n",
            "Epoch 197/200\n",
            "1/1 [==============================] - 0s 11ms/step - loss: 0.1525 - accuracy: 1.0000\n",
            "Epoch 198/200\n",
            "1/1 [==============================] - 0s 13ms/step - loss: 0.1499 - accuracy: 1.0000\n",
            "Epoch 199/200\n",
            "1/1 [==============================] - 0s 13ms/step - loss: 0.1472 - accuracy: 1.0000\n",
            "Epoch 200/200\n",
            "1/1 [==============================] - 0s 14ms/step - loss: 0.1446 - accuracy: 1.0000\n"
          ]
        },
        {
          "output_type": "execute_result",
          "data": {
            "text/plain": [
              "<keras.callbacks.History at 0x7f1e9013c3d0>"
            ]
          },
          "metadata": {},
          "execution_count": 80
        }
      ]
    },
    {
      "cell_type": "code",
      "metadata": {
        "id": "3pyFebB2H-rH"
      },
      "source": [
        "def sentence_generation(model, tokenizer, current_word, n):\n",
        "  init_word = current_word\n",
        "  sentence = ''\n",
        "\n",
        "  for _ in range(n):\n",
        "    encoded = t.texts_to_sequences([current_word])[0]\n",
        "    encoded = pad_sequences([encoded], maxlen=5, padding='pre')\n",
        "\n",
        "    result = model.predict(encoded)\n",
        "    result = np.argmax(result, axis=1)\n",
        "  \n",
        "    for word, index in t.word_index.items():\n",
        "      if index == result:\n",
        "        break\n",
        "\n",
        "    current_word = current_word + ' ' + word\n",
        "    sentence = sentence + ' ' + word\n",
        "\n",
        "  sentence = init_word + sentence\n",
        "\n",
        "  return sentence"
      ],
      "execution_count": 55,
      "outputs": []
    },
    {
      "cell_type": "code",
      "metadata": {
        "colab": {
          "base_uri": "https://localhost:8080/"
        },
        "id": "RdjRF4ZXIgP3",
        "outputId": "598df20b-25c7-41cb-fabe-890d70f4bd2d"
      },
      "source": [
        "#'경마장에' 단어 뒤에 올 4개의 단어를 예측\n",
        "print(sentence_generation(model, t, '오는', 4))"
      ],
      "execution_count": 81,
      "outputs": [
        {
          "output_type": "stream",
          "name": "stdout",
          "text": [
            "오는 말이 고와야 오는 말이\n"
          ]
        }
      ]
    },
    {
      "cell_type": "code",
      "metadata": {
        "id": "GXgocyw8ImPk"
      },
      "source": [
        ""
      ],
      "execution_count": null,
      "outputs": []
    }
  ]
}